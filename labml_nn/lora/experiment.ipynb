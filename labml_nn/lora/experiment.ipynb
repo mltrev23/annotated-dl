{
 "cells": [
  {
   "metadata": {},
   "cell_type": "code",
   "source": [
    "from labml_nn.lora.experiment import Configs\n",
    "from labml import experiment"
   ],
   "id": "1b9da2e59ffce5d5",
   "outputs": [],
   "execution_count": null
  },
  {
   "cell_type": "code",
   "id": "initial_id",
   "metadata": {
    "collapsed": true
   },
   "source": "experiment.create(name=\"lora_gpt2\")",
   "outputs": [],
   "execution_count": null
  },
  {
   "metadata": {},
   "cell_type": "code",
   "source": "conf = Configs()",
   "id": "31c9bc08eca2592",
   "outputs": [],
   "execution_count": null
  },
  {
   "metadata": {},
   "cell_type": "code",
   "source": "experiment.configs(conf)",
   "id": "fb6ce74326558948",
   "outputs": [],
   "execution_count": null
  },
  {
   "metadata": {},
   "cell_type": "code",
   "source": "conf.initialize()",
   "id": "1456cfab47dee3b",
   "outputs": [],
   "execution_count": null
  },
  {
   "metadata": {},
   "cell_type": "code",
   "source": [
    "with experiment.start():\n",
    "    conf.run()"
   ],
   "id": "3fe4068fd2df9094",
   "outputs": [],
   "execution_count": null
  },
  {
   "metadata": {},
   "cell_type": "code",
   "source": "",
   "id": "d3c3c723ebbe854a",
   "outputs": [],
   "execution_count": null
  }
 ],
 "metadata": {
  "kernelspec": {
   "display_name": "Python (ml)",
   "language": "python",
   "name": "ml"
  },
  "language_info": {
   "codemirror_mode": {
    "name": "ipython",
    "version": 2
   },
   "file_extension": ".py",
   "mimetype": "text/x-python",
   "name": "python",
   "nbconvert_exporter": "python",
   "pygments_lexer": "ipython2",
   "version": "2.7.6"
  }
 },
 "nbformat": 4,
 "nbformat_minor": 5
}
