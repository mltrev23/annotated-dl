{
 "cells": [
  {
   "cell_type": "code",
   "id": "initial_id",
   "metadata": {
    "collapsed": true,
    "jupyter": {
     "outputs_hidden": true
    },
    "ExecuteTime": {
     "end_time": "2024-07-31T12:57:37.296030Z",
     "start_time": "2024-07-31T12:57:37.292368Z"
    }
   },
   "source": "# !wget https://raw.github/zusercontent.com/karpathy/char-rnn/master/data/tinyshakespeare/input.txt",
   "outputs": [],
   "execution_count": 1
  },
  {
   "cell_type": "code",
   "id": "3b1e507015ba6b81",
   "metadata": {
    "ExecuteTime": {
     "end_time": "2024-07-31T12:57:37.317651Z",
     "start_time": "2024-07-31T12:57:37.313808Z"
    }
   },
   "source": [
    "with open('input.txt', 'r', encoding='utf-8') as f:\n",
    "    text = f.read()"
   ],
   "outputs": [],
   "execution_count": 2
  },
  {
   "cell_type": "code",
   "id": "ac8e51ae5bbfcae7",
   "metadata": {
    "ExecuteTime": {
     "end_time": "2024-07-31T12:57:40.488939Z",
     "start_time": "2024-07-31T12:57:37.319486Z"
    }
   },
   "source": [
    "from transformers import AutoTokenizer\n",
    "\n",
    "tokenizer = AutoTokenizer.from_pretrained(\"gpt2\")\n",
    "\n",
    "tokens = tokenizer.encode(text, add_special_tokens=False)"
   ],
   "outputs": [
    {
     "name": "stderr",
     "output_type": "stream",
     "text": [
      "Token indices sequence length is longer than the specified maximum sequence length for this model (338025 > 1024). Running this sequence through the model will result in indexing errors\n"
     ]
    }
   ],
   "execution_count": 3
  },
  {
   "cell_type": "code",
   "id": "aeefcdf813e427e",
   "metadata": {
    "ExecuteTime": {
     "end_time": "2024-07-31T12:57:40.495510Z",
     "start_time": "2024-07-31T12:57:40.490341Z"
    }
   },
   "source": [
    "context_length = 512\n",
    "batch_size = 2"
   ],
   "outputs": [],
   "execution_count": 4
  },
  {
   "cell_type": "code",
   "id": "a384b42274f008a2",
   "metadata": {
    "ExecuteTime": {
     "end_time": "2024-07-31T12:57:40.522050Z",
     "start_time": "2024-07-31T12:57:40.496842Z"
    }
   },
   "source": [
    "num_batches = len(tokens) // (batch_size * context_length)\n",
    "tokens = tokens[:num_batches * batch_size * context_length]"
   ],
   "outputs": [],
   "execution_count": 5
  },
  {
   "cell_type": "code",
   "id": "5c4cc78ac1a02c1d",
   "metadata": {
    "ExecuteTime": {
     "end_time": "2024-07-31T12:57:40.592272Z",
     "start_time": "2024-07-31T12:57:40.524063Z"
    }
   },
   "source": [
    "import torch\n",
    "\n",
    "input_ids = torch.tensor(tokens).view(-1, context_length)"
   ],
   "outputs": [],
   "execution_count": 6
  },
  {
   "cell_type": "code",
   "id": "7037fd75e2161382",
   "metadata": {
    "ExecuteTime": {
     "end_time": "2024-07-31T12:57:40.601199Z",
     "start_time": "2024-07-31T12:57:40.593250Z"
    }
   },
   "source": [
    "from torch.utils.data import DataLoader, TensorDataset\n",
    "from torch.optim import Adam\n",
    "from torch.utils.data import random_split\n",
    "\n",
    "dataset = TensorDataset(input_ids)\n",
    "\n",
    "train_ratio = 0.8\n",
    "test_ratio = 0.2\n",
    "\n",
    "train_size = int(train_ratio * len(dataset))\n",
    "test_size = len(dataset) - train_size\n",
    "\n",
    "train_dataset, test_dataset = random_split(dataset, [train_size, test_size])\n",
    "\n",
    "train_dataloader = DataLoader(train_dataset, batch_size=batch_size, shuffle=True)\n",
    "test_dataloader = DataLoader(test_dataset, batch_size=batch_size, shuffle=False)"
   ],
   "outputs": [],
   "execution_count": 7
  },
  {
   "cell_type": "code",
   "id": "a98b7baa064b8494",
   "metadata": {
    "ExecuteTime": {
     "end_time": "2024-07-31T12:57:41.577878Z",
     "start_time": "2024-07-31T12:57:40.602187Z"
    }
   },
   "source": [
    "from labml_nn.transformers.LoRA.GPT2 import GPTModel\n",
    "\n",
    "model = GPTModel()\n",
    "state_dict = torch.load('transformed.pth', weights_only=True)\n",
    "\n",
    "_ = model.load_state_dict(state_dict, strict=False)"
   ],
   "outputs": [],
   "execution_count": 8
  },
  {
   "metadata": {
    "ExecuteTime": {
     "end_time": "2024-07-31T12:57:43.098187Z",
     "start_time": "2024-07-31T12:57:41.578713Z"
    }
   },
   "cell_type": "code",
   "source": [
    "device = \"cuda\"\n",
    "model = model.to(device=\"cuda\")"
   ],
   "id": "2e0fa8b3082df716",
   "outputs": [],
   "execution_count": 9
  },
  {
   "cell_type": "code",
   "id": "e2f5076894770740",
   "metadata": {
    "ExecuteTime": {
     "end_time": "2024-07-31T12:57:57.044755Z",
     "start_time": "2024-07-31T12:57:43.099050Z"
    }
   },
   "source": [
    "from labml import tracker, experiment\n",
    "\n",
    "optimizer = Adam(model.parameters(), lr=5e-5)\n",
    "criterion = torch.nn.CrossEntropyLoss()\n",
    "\n",
    "model.train()\n",
    "epochs = 3\n",
    "step = 0\n",
    "\n",
    "with experiment.record(name='LoRA.GPT2', app_url='http://localhost:5005/api/v1/track'):\n",
    "    for epoch in range(epochs):\n",
    "        for batch in train_dataloader:\n",
    "            inputs = batch[0]\n",
    "            inputs = inputs.to(device)\n",
    "            labels = inputs.clone()\n",
    "            \n",
    "            outputs = model(inputs)\n",
    "            \n",
    "            shift_logits = outputs[..., :-1, :]\n",
    "            shift_labels = labels[..., 1:]\n",
    "            \n",
    "            loss = criterion(shift_logits.reshape(-1, shift_logits.size(-1)), shift_labels.reshape(-1))\n",
    "            \n",
    "            optimizer.zero_grad()\n",
    "            loss.backward()\n",
    "            optimizer.step()\n",
    "            \n",
    "            tracker.save(step, {'loss': loss})\n",
    "            step += 1\n",
    "        print(f'Epoch: {epoch + 1}, Loss: {loss.item()}')\n",
    "        \n",
    "        test_loss = 0\n",
    "        for batch in test_dataloader:\n",
    "            inputs = batch[0]\n",
    "            inputs = inputs.to(device)\n",
    "            labels = inputs.clone()\n",
    "            \n",
    "            outputs = model(inputs)\n",
    "            \n",
    "            shift_logits = outputs[..., :-1, :]\n",
    "            shift_labels = labels[..., 1:]\n",
    "            \n",
    "            loss = criterion(shift_logits.reshape(-1, shift_logits.size(-1)), shift_labels.reshape(-1))\n",
    "            \n",
    "            test_loss += loss.item()\n",
    "        test_loss /= len(test_dataloader)\n",
    "        tracker.save(step, {'test_loss': test_loss})\n",
    "        \n",
    "\n",
    "print(\"Training complete.\")"
   ],
   "outputs": [
    {
     "data": {
      "text/plain": [
       "<IPython.core.display.HTML object>"
      ],
      "text/html": [
       "<pre style=\"overflow-x: scroll;\">\n",
       "<strong><span style=\"text-decoration: underline\">LoRA.GPT2</span></strong>: <span style=\"color: #208FFB\">7a14822c4f3c11efad8354ef33f17c7c</span>\n",
       "\t[dirty]: <strong><span style=\"color: #DDB62B\">\"training loop\"</span></strong>\n",
       "<span style=\"color: #208FFB\">Monitor experiment at </span><a href='http://localhost:5005/run/7a14822c4f3c11efad8354ef33f17c7c' target='blank'>http://localhost:5005/run/7a14822c4f3c11efad8354ef33f17c7c</a>\n",
       "<strong><span style=\"color: #DDB62B\">Still updating labml server, please wait for it to complete...</span></strong></pre>"
      ]
     },
     "metadata": {},
     "output_type": "display_data"
    },
    {
     "ename": "KeyboardInterrupt",
     "evalue": "",
     "output_type": "error",
     "traceback": [
      "\u001B[0;31m---------------------------------------------------------------------------\u001B[0m",
      "\u001B[0;31mKeyboardInterrupt\u001B[0m                         Traceback (most recent call last)",
      "Cell \u001B[0;32mIn[10], line 25\u001B[0m\n\u001B[1;32m     22\u001B[0m loss \u001B[38;5;241m=\u001B[39m criterion(shift_logits\u001B[38;5;241m.\u001B[39mreshape(\u001B[38;5;241m-\u001B[39m\u001B[38;5;241m1\u001B[39m, shift_logits\u001B[38;5;241m.\u001B[39msize(\u001B[38;5;241m-\u001B[39m\u001B[38;5;241m1\u001B[39m)), shift_labels\u001B[38;5;241m.\u001B[39mreshape(\u001B[38;5;241m-\u001B[39m\u001B[38;5;241m1\u001B[39m))\n\u001B[1;32m     24\u001B[0m optimizer\u001B[38;5;241m.\u001B[39mzero_grad()\n\u001B[0;32m---> 25\u001B[0m loss\u001B[38;5;241m.\u001B[39mbackward()\n\u001B[1;32m     26\u001B[0m optimizer\u001B[38;5;241m.\u001B[39mstep()\n\u001B[1;32m     28\u001B[0m tracker\u001B[38;5;241m.\u001B[39msave(step, {\u001B[38;5;124m'\u001B[39m\u001B[38;5;124mloss\u001B[39m\u001B[38;5;124m'\u001B[39m: loss})\n",
      "File \u001B[0;32m~/miniconda3/lib/python3.12/site-packages/torch/_tensor.py:521\u001B[0m, in \u001B[0;36mTensor.backward\u001B[0;34m(self, gradient, retain_graph, create_graph, inputs)\u001B[0m\n\u001B[1;32m    511\u001B[0m \u001B[38;5;28;01mif\u001B[39;00m has_torch_function_unary(\u001B[38;5;28mself\u001B[39m):\n\u001B[1;32m    512\u001B[0m     \u001B[38;5;28;01mreturn\u001B[39;00m handle_torch_function(\n\u001B[1;32m    513\u001B[0m         Tensor\u001B[38;5;241m.\u001B[39mbackward,\n\u001B[1;32m    514\u001B[0m         (\u001B[38;5;28mself\u001B[39m,),\n\u001B[0;32m   (...)\u001B[0m\n\u001B[1;32m    519\u001B[0m         inputs\u001B[38;5;241m=\u001B[39minputs,\n\u001B[1;32m    520\u001B[0m     )\n\u001B[0;32m--> 521\u001B[0m torch\u001B[38;5;241m.\u001B[39mautograd\u001B[38;5;241m.\u001B[39mbackward(\n\u001B[1;32m    522\u001B[0m     \u001B[38;5;28mself\u001B[39m, gradient, retain_graph, create_graph, inputs\u001B[38;5;241m=\u001B[39minputs\n\u001B[1;32m    523\u001B[0m )\n",
      "File \u001B[0;32m~/miniconda3/lib/python3.12/site-packages/torch/autograd/__init__.py:289\u001B[0m, in \u001B[0;36mbackward\u001B[0;34m(tensors, grad_tensors, retain_graph, create_graph, grad_variables, inputs)\u001B[0m\n\u001B[1;32m    284\u001B[0m     retain_graph \u001B[38;5;241m=\u001B[39m create_graph\n\u001B[1;32m    286\u001B[0m \u001B[38;5;66;03m# The reason we repeat the same comment below is that\u001B[39;00m\n\u001B[1;32m    287\u001B[0m \u001B[38;5;66;03m# some Python versions print out the first line of a multi-line function\u001B[39;00m\n\u001B[1;32m    288\u001B[0m \u001B[38;5;66;03m# calls in the traceback and some print out the last line\u001B[39;00m\n\u001B[0;32m--> 289\u001B[0m _engine_run_backward(\n\u001B[1;32m    290\u001B[0m     tensors,\n\u001B[1;32m    291\u001B[0m     grad_tensors_,\n\u001B[1;32m    292\u001B[0m     retain_graph,\n\u001B[1;32m    293\u001B[0m     create_graph,\n\u001B[1;32m    294\u001B[0m     inputs,\n\u001B[1;32m    295\u001B[0m     allow_unreachable\u001B[38;5;241m=\u001B[39m\u001B[38;5;28;01mTrue\u001B[39;00m,\n\u001B[1;32m    296\u001B[0m     accumulate_grad\u001B[38;5;241m=\u001B[39m\u001B[38;5;28;01mTrue\u001B[39;00m,\n\u001B[1;32m    297\u001B[0m )\n",
      "File \u001B[0;32m~/miniconda3/lib/python3.12/site-packages/torch/autograd/graph.py:768\u001B[0m, in \u001B[0;36m_engine_run_backward\u001B[0;34m(t_outputs, *args, **kwargs)\u001B[0m\n\u001B[1;32m    766\u001B[0m     unregister_hooks \u001B[38;5;241m=\u001B[39m _register_logging_hooks_on_whole_graph(t_outputs)\n\u001B[1;32m    767\u001B[0m \u001B[38;5;28;01mtry\u001B[39;00m:\n\u001B[0;32m--> 768\u001B[0m     \u001B[38;5;28;01mreturn\u001B[39;00m Variable\u001B[38;5;241m.\u001B[39m_execution_engine\u001B[38;5;241m.\u001B[39mrun_backward(  \u001B[38;5;66;03m# Calls into the C++ engine to run the backward pass\u001B[39;00m\n\u001B[1;32m    769\u001B[0m         t_outputs, \u001B[38;5;241m*\u001B[39margs, \u001B[38;5;241m*\u001B[39m\u001B[38;5;241m*\u001B[39mkwargs\n\u001B[1;32m    770\u001B[0m     )  \u001B[38;5;66;03m# Calls into the C++ engine to run the backward pass\u001B[39;00m\n\u001B[1;32m    771\u001B[0m \u001B[38;5;28;01mfinally\u001B[39;00m:\n\u001B[1;32m    772\u001B[0m     \u001B[38;5;28;01mif\u001B[39;00m attach_logging_hooks:\n",
      "\u001B[0;31mKeyboardInterrupt\u001B[0m: "
     ]
    }
   ],
   "execution_count": 10
  },
  {
   "cell_type": "code",
   "id": "da2d4023002648dc",
   "metadata": {
    "ExecuteTime": {
     "end_time": "2024-07-31T12:57:57.046254Z",
     "start_time": "2024-07-31T12:57:57.045954Z"
    }
   },
   "source": [],
   "outputs": [],
   "execution_count": null
  }
 ],
 "metadata": {
  "kernelspec": {
   "display_name": "base",
   "language": "python",
   "name": "base"
  },
  "language_info": {
   "codemirror_mode": {
    "name": "ipython",
    "version": 3
   },
   "file_extension": ".py",
   "mimetype": "text/x-python",
   "name": "python",
   "nbconvert_exporter": "python",
   "pygments_lexer": "ipython3",
   "version": "3.12.4"
  }
 },
 "nbformat": 4,
 "nbformat_minor": 5
}
