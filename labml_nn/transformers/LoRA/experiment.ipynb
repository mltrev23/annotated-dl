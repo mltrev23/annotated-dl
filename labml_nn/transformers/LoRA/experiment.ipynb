{
 "cells": [
  {
   "metadata": {
    "ExecuteTime": {
     "end_time": "2024-07-29T07:14:27.781097Z",
     "start_time": "2024-07-29T07:14:24.819976Z"
    }
   },
   "cell_type": "code",
   "source": [
    "from labml_nn.transformers.LoRA.GPT2 import GPTModel\n",
    "import torch"
   ],
   "id": "cffa3ec341b4905a",
   "outputs": [],
   "execution_count": 1
  },
  {
   "metadata": {
    "ExecuteTime": {
     "end_time": "2024-07-29T07:14:28.183960Z",
     "start_time": "2024-07-29T07:14:27.782683Z"
    }
   },
   "cell_type": "code",
   "source": [
    "from transformers import AutoTokenizer\n",
    "\n",
    "tokenizer = AutoTokenizer.from_pretrained(\"gpt2\")"
   ],
   "id": "c2b0b7e18394ea9e",
   "outputs": [],
   "execution_count": 2
  },
  {
   "cell_type": "code",
   "id": "initial_id",
   "metadata": {
    "collapsed": true,
    "ExecuteTime": {
     "end_time": "2024-07-29T07:14:29.840925Z",
     "start_time": "2024-07-29T07:14:28.185080Z"
    }
   },
   "source": [
    "model = GPTModel()\n",
    "\n",
    "state_dict = torch.load('transformed.pth')\n",
    "\n",
    "missing_keys, unexpected_keys = model.load_state_dict(state_dict, strict=False)\n",
    "if missing_keys:\n",
    "    print(f\"Missing keys: {missing_keys}\")\n",
    "if unexpected_keys:\n",
    "    print(f\"Unexpected keys: {unexpected_keys}\")"
   ],
   "outputs": [],
   "execution_count": 3
  },
  {
   "metadata": {
    "ExecuteTime": {
     "end_time": "2024-07-29T07:22:30.408855Z",
     "start_time": "2024-07-29T07:22:30.168376Z"
    }
   },
   "cell_type": "code",
   "source": [
    "prompt = \"hello how are you\"\n",
    "tokenized = tokenizer(prompt, return_tensors=\"pt\")\n",
    "\n",
    "with torch.no_grad():\n",
    "    model.eval()\n",
    "    res = model(tokenized['input_ids'])\n",
    "\n",
    "output_ids = torch.argmax(res, dim=-1)\n",
    "for id in output_ids[0]:\n",
    "    print(tokenizer.decode(id))"
   ],
   "id": "f4f7826ec3729b66",
   "outputs": [
    {
     "name": "stdout",
     "output_type": "stream",
     "text": [
      ",\n",
      " to\n",
      " you\n",
      " doing\n"
     ]
    }
   ],
   "execution_count": 17
  },
  {
   "metadata": {},
   "cell_type": "code",
   "outputs": [],
   "execution_count": null,
   "source": "",
   "id": "c12776360008a974"
  }
 ],
 "metadata": {
  "kernelspec": {
   "display_name": "Python (ml)",
   "language": "python",
   "name": "ml"
  },
  "language_info": {
   "codemirror_mode": {
    "name": "ipython",
    "version": 2
   },
   "file_extension": ".py",
   "mimetype": "text/x-python",
   "name": "python",
   "nbconvert_exporter": "python",
   "pygments_lexer": "ipython2",
   "version": "2.7.6"
  }
 },
 "nbformat": 4,
 "nbformat_minor": 5
}
